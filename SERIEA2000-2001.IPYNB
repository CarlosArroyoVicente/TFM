{
 "metadata": {
  "language_info": {
   "codemirror_mode": {
    "name": "ipython",
    "version": 3
   },
   "file_extension": ".py",
   "mimetype": "text/x-python",
   "name": "python",
   "nbconvert_exporter": "python",
   "pygments_lexer": "ipython3",
   "version": "3.9.1"
  },
  "orig_nbformat": 2,
  "kernelspec": {
   "name": "python391jvsc74a57bd02031f9519a7c89e6e764d298a7cc2bf310f53fcc368717afac921416e61cc7f7",
   "display_name": "Python 3.9.1 64-bit"
  }
 },
 "nbformat": 4,
 "nbformat_minor": 2,
 "cells": [
  {
   "cell_type": "code",
   "execution_count": 12,
   "metadata": {},
   "outputs": [],
   "source": [
    "import pandas as pd\n",
    "import matplotlib.pyplot as plt\n",
    "import numpy as np\n",
    "import seaborn as sns\n",
    "from datetime import datetime as dt\n",
    "import itertools\n",
    "%matplotlib inline"
   ]
  },
  {
   "cell_type": "code",
   "execution_count": 13,
   "metadata": {},
   "outputs": [
    {
     "output_type": "execute_result",
     "data": {
      "text/plain": [
       "  Div      Date  HomeTeam    AwayTeam  FTHG  FTAG FTR  HTHG  HTAG HTR  ...  \\\n",
       "0  I1  30/08/14    Chievo    Juventus     0     1   A     0     1   A  ...   \n",
       "1  I1  30/08/14      Roma  Fiorentina     2     0   H     1     0   H  ...   \n",
       "2  I1  31/08/14  Atalanta      Verona     0     0   D     0     0   D  ...   \n",
       "3  I1  31/08/14    Cesena       Parma     1     0   H     1     0   H  ...   \n",
       "4  I1  31/08/14     Genoa      Napoli     1     2   A     1     1   D  ...   \n",
       "5  I1  31/08/14     Milan       Lazio     3     1   H     1     0   H  ...   \n",
       "6  I1  31/08/14   Palermo   Sampdoria     1     1   D     1     0   H  ...   \n",
       "7  I1  31/08/14  Sassuolo    Cagliari     1     1   D     1     1   D  ...   \n",
       "8  I1  31/08/14    Torino       Inter     0     0   D     0     0   D  ...   \n",
       "9  I1  31/08/14   Udinese      Empoli     2     0   H     0     0   D  ...   \n",
       "\n",
       "   BbAv<2.5  BbAH  BbAHh  BbMxAHH  BbAvAHH  BbMxAHA  BbAvAHA  PSCH  PSCD  PSCA  \n",
       "0      1.80    27   1.00     2.00     1.94     1.98     1.92  8.35  3.84  1.56  \n",
       "1      1.94    21  -0.75     2.00     1.95     1.98     1.92  1.73  3.80  5.56  \n",
       "2      1.70    21  -0.50     2.15     2.10     1.84     1.80  2.07  3.47  3.99  \n",
       "3      1.59    21   0.25     1.91     1.86     2.08     2.01  5.44  3.65  1.76  \n",
       "4      1.82    21   0.50     1.91     1.87     2.04     2.01  3.92  3.54  2.07  \n",
       "5      1.79    20  -0.50     2.05     2.00     1.90     1.87  2.13  3.18  4.28  \n",
       "6      1.65    21  -0.25     1.96     1.89     2.03     1.98  2.26  3.29  3.64  \n",
       "7      2.10    21   0.00     1.72     1.67     2.36     2.25  2.03  3.71  3.89  \n",
       "8      1.77    21   0.00     2.38     2.28     1.72     1.66  2.77  3.34  2.78  \n",
       "9      1.74    21  -0.75     2.10     2.05     1.87     1.83  1.77  3.69  5.48  \n",
       "\n",
       "[10 rows x 67 columns]"
      ],
      "text/html": "<div>\n<style scoped>\n    .dataframe tbody tr th:only-of-type {\n        vertical-align: middle;\n    }\n\n    .dataframe tbody tr th {\n        vertical-align: top;\n    }\n\n    .dataframe thead th {\n        text-align: right;\n    }\n</style>\n<table border=\"1\" class=\"dataframe\">\n  <thead>\n    <tr style=\"text-align: right;\">\n      <th></th>\n      <th>Div</th>\n      <th>Date</th>\n      <th>HomeTeam</th>\n      <th>AwayTeam</th>\n      <th>FTHG</th>\n      <th>FTAG</th>\n      <th>FTR</th>\n      <th>HTHG</th>\n      <th>HTAG</th>\n      <th>HTR</th>\n      <th>...</th>\n      <th>BbAv&lt;2.5</th>\n      <th>BbAH</th>\n      <th>BbAHh</th>\n      <th>BbMxAHH</th>\n      <th>BbAvAHH</th>\n      <th>BbMxAHA</th>\n      <th>BbAvAHA</th>\n      <th>PSCH</th>\n      <th>PSCD</th>\n      <th>PSCA</th>\n    </tr>\n  </thead>\n  <tbody>\n    <tr>\n      <th>0</th>\n      <td>I1</td>\n      <td>30/08/14</td>\n      <td>Chievo</td>\n      <td>Juventus</td>\n      <td>0</td>\n      <td>1</td>\n      <td>A</td>\n      <td>0</td>\n      <td>1</td>\n      <td>A</td>\n      <td>...</td>\n      <td>1.80</td>\n      <td>27</td>\n      <td>1.00</td>\n      <td>2.00</td>\n      <td>1.94</td>\n      <td>1.98</td>\n      <td>1.92</td>\n      <td>8.35</td>\n      <td>3.84</td>\n      <td>1.56</td>\n    </tr>\n    <tr>\n      <th>1</th>\n      <td>I1</td>\n      <td>30/08/14</td>\n      <td>Roma</td>\n      <td>Fiorentina</td>\n      <td>2</td>\n      <td>0</td>\n      <td>H</td>\n      <td>1</td>\n      <td>0</td>\n      <td>H</td>\n      <td>...</td>\n      <td>1.94</td>\n      <td>21</td>\n      <td>-0.75</td>\n      <td>2.00</td>\n      <td>1.95</td>\n      <td>1.98</td>\n      <td>1.92</td>\n      <td>1.73</td>\n      <td>3.80</td>\n      <td>5.56</td>\n    </tr>\n    <tr>\n      <th>2</th>\n      <td>I1</td>\n      <td>31/08/14</td>\n      <td>Atalanta</td>\n      <td>Verona</td>\n      <td>0</td>\n      <td>0</td>\n      <td>D</td>\n      <td>0</td>\n      <td>0</td>\n      <td>D</td>\n      <td>...</td>\n      <td>1.70</td>\n      <td>21</td>\n      <td>-0.50</td>\n      <td>2.15</td>\n      <td>2.10</td>\n      <td>1.84</td>\n      <td>1.80</td>\n      <td>2.07</td>\n      <td>3.47</td>\n      <td>3.99</td>\n    </tr>\n    <tr>\n      <th>3</th>\n      <td>I1</td>\n      <td>31/08/14</td>\n      <td>Cesena</td>\n      <td>Parma</td>\n      <td>1</td>\n      <td>0</td>\n      <td>H</td>\n      <td>1</td>\n      <td>0</td>\n      <td>H</td>\n      <td>...</td>\n      <td>1.59</td>\n      <td>21</td>\n      <td>0.25</td>\n      <td>1.91</td>\n      <td>1.86</td>\n      <td>2.08</td>\n      <td>2.01</td>\n      <td>5.44</td>\n      <td>3.65</td>\n      <td>1.76</td>\n    </tr>\n    <tr>\n      <th>4</th>\n      <td>I1</td>\n      <td>31/08/14</td>\n      <td>Genoa</td>\n      <td>Napoli</td>\n      <td>1</td>\n      <td>2</td>\n      <td>A</td>\n      <td>1</td>\n      <td>1</td>\n      <td>D</td>\n      <td>...</td>\n      <td>1.82</td>\n      <td>21</td>\n      <td>0.50</td>\n      <td>1.91</td>\n      <td>1.87</td>\n      <td>2.04</td>\n      <td>2.01</td>\n      <td>3.92</td>\n      <td>3.54</td>\n      <td>2.07</td>\n    </tr>\n    <tr>\n      <th>5</th>\n      <td>I1</td>\n      <td>31/08/14</td>\n      <td>Milan</td>\n      <td>Lazio</td>\n      <td>3</td>\n      <td>1</td>\n      <td>H</td>\n      <td>1</td>\n      <td>0</td>\n      <td>H</td>\n      <td>...</td>\n      <td>1.79</td>\n      <td>20</td>\n      <td>-0.50</td>\n      <td>2.05</td>\n      <td>2.00</td>\n      <td>1.90</td>\n      <td>1.87</td>\n      <td>2.13</td>\n      <td>3.18</td>\n      <td>4.28</td>\n    </tr>\n    <tr>\n      <th>6</th>\n      <td>I1</td>\n      <td>31/08/14</td>\n      <td>Palermo</td>\n      <td>Sampdoria</td>\n      <td>1</td>\n      <td>1</td>\n      <td>D</td>\n      <td>1</td>\n      <td>0</td>\n      <td>H</td>\n      <td>...</td>\n      <td>1.65</td>\n      <td>21</td>\n      <td>-0.25</td>\n      <td>1.96</td>\n      <td>1.89</td>\n      <td>2.03</td>\n      <td>1.98</td>\n      <td>2.26</td>\n      <td>3.29</td>\n      <td>3.64</td>\n    </tr>\n    <tr>\n      <th>7</th>\n      <td>I1</td>\n      <td>31/08/14</td>\n      <td>Sassuolo</td>\n      <td>Cagliari</td>\n      <td>1</td>\n      <td>1</td>\n      <td>D</td>\n      <td>1</td>\n      <td>1</td>\n      <td>D</td>\n      <td>...</td>\n      <td>2.10</td>\n      <td>21</td>\n      <td>0.00</td>\n      <td>1.72</td>\n      <td>1.67</td>\n      <td>2.36</td>\n      <td>2.25</td>\n      <td>2.03</td>\n      <td>3.71</td>\n      <td>3.89</td>\n    </tr>\n    <tr>\n      <th>8</th>\n      <td>I1</td>\n      <td>31/08/14</td>\n      <td>Torino</td>\n      <td>Inter</td>\n      <td>0</td>\n      <td>0</td>\n      <td>D</td>\n      <td>0</td>\n      <td>0</td>\n      <td>D</td>\n      <td>...</td>\n      <td>1.77</td>\n      <td>21</td>\n      <td>0.00</td>\n      <td>2.38</td>\n      <td>2.28</td>\n      <td>1.72</td>\n      <td>1.66</td>\n      <td>2.77</td>\n      <td>3.34</td>\n      <td>2.78</td>\n    </tr>\n    <tr>\n      <th>9</th>\n      <td>I1</td>\n      <td>31/08/14</td>\n      <td>Udinese</td>\n      <td>Empoli</td>\n      <td>2</td>\n      <td>0</td>\n      <td>H</td>\n      <td>0</td>\n      <td>0</td>\n      <td>D</td>\n      <td>...</td>\n      <td>1.74</td>\n      <td>21</td>\n      <td>-0.75</td>\n      <td>2.10</td>\n      <td>2.05</td>\n      <td>1.87</td>\n      <td>1.83</td>\n      <td>1.77</td>\n      <td>3.69</td>\n      <td>5.48</td>\n    </tr>\n  </tbody>\n</table>\n<p>10 rows × 67 columns</p>\n</div>"
     },
     "metadata": {},
     "execution_count": 13
    }
   ],
   "source": [
    "raw_data = pd.read_csv('2014-2015.csv',sep=',')\n",
    "raw_data.head(10)"
   ]
  },
  {
   "cell_type": "code",
   "execution_count": 14,
   "metadata": {},
   "outputs": [],
   "source": [
    "columns_req = ['Date','HomeTeam','AwayTeam','FTHG','FTAG','FTR']\n",
    "\n",
    "playing_statistics = raw_data[columns_req]"
   ]
  },
  {
   "cell_type": "code",
   "execution_count": 16,
   "metadata": {},
   "outputs": [
    {
     "output_type": "stream",
     "name": "stderr",
     "text": [
      "<ipython-input-16-8c4cba2ba8be>:68: SettingWithCopyWarning: \nA value is trying to be set on a copy of a slice from a DataFrame.\nTry using .loc[row_indexer,col_indexer] = value instead\n\nSee the caveats in the documentation: https://pandas.pydata.org/pandas-docs/stable/user_guide/indexing.html#returning-a-view-versus-a-copy\n  playing_stat['HTGS'] = HTGS\n<ipython-input-16-8c4cba2ba8be>:69: SettingWithCopyWarning: \nA value is trying to be set on a copy of a slice from a DataFrame.\nTry using .loc[row_indexer,col_indexer] = value instead\n\nSee the caveats in the documentation: https://pandas.pydata.org/pandas-docs/stable/user_guide/indexing.html#returning-a-view-versus-a-copy\n  playing_stat['ATGS'] = ATGS\n<ipython-input-16-8c4cba2ba8be>:70: SettingWithCopyWarning: \nA value is trying to be set on a copy of a slice from a DataFrame.\nTry using .loc[row_indexer,col_indexer] = value instead\n\nSee the caveats in the documentation: https://pandas.pydata.org/pandas-docs/stable/user_guide/indexing.html#returning-a-view-versus-a-copy\n  playing_stat['HTGC'] = HTGC\n<ipython-input-16-8c4cba2ba8be>:71: SettingWithCopyWarning: \nA value is trying to be set on a copy of a slice from a DataFrame.\nTry using .loc[row_indexer,col_indexer] = value instead\n\nSee the caveats in the documentation: https://pandas.pydata.org/pandas-docs/stable/user_guide/indexing.html#returning-a-view-versus-a-copy\n  playing_stat['ATGC'] = ATGC\n"
     ]
    }
   ],
   "source": [
    "# Gets the goals scored agg arranged by teams and matchweek\n",
    "def get_goals_scored(playing_stat):\n",
    "    # Create a dictionary with team names as keys\n",
    "    teams = {}\n",
    "    for i in playing_stat.groupby('HomeTeam').mean().T.columns:\n",
    "        teams[i] = []\n",
    "    \n",
    "    # the value corresponding to keys is a list containing the match location.\n",
    "    for i in range(len(playing_stat)):\n",
    "        HTGS = playing_stat.iloc[i]['FTHG']\n",
    "        ATGS = playing_stat.iloc[i]['FTAG']\n",
    "        teams[playing_stat.iloc[i].HomeTeam].append(HTGS)\n",
    "        teams[playing_stat.iloc[i].AwayTeam].append(ATGS)\n",
    "    \n",
    "    # Create a dataframe for goals scored where rows are teams and cols are matchweek.\n",
    "    GoalsScored = pd.DataFrame(data=teams, index = [i for i in range(1,39)]).T\n",
    "    GoalsScored[0] = 0\n",
    "    # Aggregate to get uptil that point\n",
    "    for i in range(2,39):\n",
    "        GoalsScored[i] = GoalsScored[i] + GoalsScored[i-1]\n",
    "    return GoalsScored\n",
    "\n",
    "\n",
    "\n",
    "# Gets the goals conceded agg arranged by teams and matchweek\n",
    "def get_goals_conceded(playing_stat):\n",
    "    # Create a dictionary with team names as keys\n",
    "    teams = {}\n",
    "    for i in playing_stat.groupby('HomeTeam').mean().T.columns:\n",
    "        teams[i] = []\n",
    "    \n",
    "    # the value corresponding to keys is a list containing the match location.\n",
    "    for i in range(len(playing_stat)):\n",
    "        ATGC = playing_stat.iloc[i]['FTHG']\n",
    "        HTGC = playing_stat.iloc[i]['FTAG']\n",
    "        teams[playing_stat.iloc[i].HomeTeam].append(HTGC)\n",
    "        teams[playing_stat.iloc[i].AwayTeam].append(ATGC)\n",
    "    \n",
    "    # Create a dataframe for goals scored where rows are teams and cols are matchweek.\n",
    "    GoalsConceded = pd.DataFrame(data=teams, index = [i for i in range(1,39)]).T\n",
    "    GoalsConceded[0] = 0\n",
    "    # Aggregate to get uptil that point\n",
    "    for i in range(2,39):\n",
    "        GoalsConceded[i] = GoalsConceded[i] + GoalsConceded[i-1]\n",
    "    return GoalsConceded\n",
    "\n",
    "def get_gss(playing_stat):\n",
    "    GC = get_goals_conceded(playing_stat)\n",
    "    GS = get_goals_scored(playing_stat)\n",
    "   \n",
    "    j = 0\n",
    "    HTGS = []\n",
    "    ATGS = []\n",
    "    HTGC = []\n",
    "    ATGC = []\n",
    "\n",
    "    for i in range(380):\n",
    "        ht = playing_stat.iloc[i].HomeTeam\n",
    "        at = playing_stat.iloc[i].AwayTeam\n",
    "        HTGS.append(GS.loc[ht][j])\n",
    "        ATGS.append(GS.loc[at][j])\n",
    "        HTGC.append(GC.loc[ht][j])\n",
    "        ATGC.append(GC.loc[at][j])\n",
    "        \n",
    "        if ((i + 1)% 10) == 0:\n",
    "            j = j + 1\n",
    "        \n",
    "    playing_stat['HTGS'] = HTGS\n",
    "    playing_stat['ATGS'] = ATGS\n",
    "    playing_stat['HTGC'] = HTGC\n",
    "    playing_stat['ATGC'] = ATGC\n",
    "    \n",
    "    return playing_stat\n",
    "\n",
    "\n",
    "# Apply to each dataset\n",
    "playing_statistics = get_gss(playing_statistics)"
   ]
  },
  {
   "cell_type": "code",
   "execution_count": null,
   "metadata": {},
   "outputs": [],
   "source": []
  }
 ]
}