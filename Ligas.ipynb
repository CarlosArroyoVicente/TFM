{
 "cells": [
  {
   "cell_type": "code",
   "execution_count": 20,
   "id": "61ee0751",
   "metadata": {},
   "outputs": [
    {
     "name": "stdout",
     "output_type": "stream",
     "text": [
      "<class 'pandas.core.frame.DataFrame'>\n",
      "RangeIndex: 31532 entries, 0 to 31531\n",
      "Data columns (total 11 columns):\n",
      " #   Column    Non-Null Count  Dtype  \n",
      "---  ------    --------------  -----  \n",
      " 0   Div       7650 non-null   object \n",
      " 1   Date      24154 non-null  object \n",
      " 2   HomeTeam  31532 non-null  object \n",
      " 3   AwayTeam  31532 non-null  object \n",
      " 4   FTHG      31532 non-null  int64  \n",
      " 5   FTAG      31532 non-null  int64  \n",
      " 6   FTR       24154 non-null  object \n",
      " 7   HTHG      16700 non-null  float64\n",
      " 8   HTAG      16700 non-null  float64\n",
      " 9   HTR       16700 non-null  object \n",
      " 10  Season    24692 non-null  object \n",
      "dtypes: float64(2), int64(2), object(7)\n",
      "memory usage: 2.6+ MB\n"
     ]
    }
   ],
   "source": [
    "import io\n",
    "import time\n",
    "#import graphviz \n",
    "import itertools\n",
    "import numpy as np\n",
    "import pandas as pd\n",
    "import seaborn as sns\n",
    "import matplotlib.pyplot as plt\n",
    "from sklearn.ensemble import RandomForestClassifier\n",
    "#from sklearn.svm import svc\n",
    "from sklearn import svm\n",
    "from sklearn.neural_network import MLPClassifier\n",
    "from sklearn.metrics import confusion_matrix, classification_report\n",
    "from sklearn.preprocessing import StandardScaler, LabelEncoder\n",
    "from sklearn.model_selection import train_test_split\n",
    "from sklearn.linear_model import LogisticRegression, LinearRegression\n",
    "from sklearn import tree\n",
    "from sklearn.cluster import KMeans\n",
    "from sklearn.neighbors import NearestNeighbors\n",
    "from sklearn import datasets, metrics, preprocessing\n",
    "from sklearn.model_selection import GridSearchCV, learning_curve\n",
    "#from keras.models import Sequential\n",
    "#from keras.optimizers import rmsprop\n",
    "#from keras.layers import Dense, Activation\n",
    "\n",
    "import warnings\n",
    "warnings.filterwarnings(\"ignore\")\n",
    "\n",
    "\n",
    "\n",
    "data=pd.read_csv('Todas_las_ligas.csv',sep=';')\n",
    "\n",
    "data.info()"
   ]
  },
  {
   "cell_type": "code",
   "execution_count": 12,
   "id": "74cab83c",
   "metadata": {},
   "outputs": [
    {
     "data": {
      "text/plain": [
       "<AxesSubplot:xlabel='FTR', ylabel='count'>"
      ]
     },
     "execution_count": 12,
     "metadata": {},
     "output_type": "execute_result"
    },
    {
     "data": {
      "image/png": "[encoded data removed]",
      "text/plain": [
       "<Figure size 432x288 with 1 Axes>"
      ]
     },
     "metadata": {
      "needs_background": "light"
     },
     "output_type": "display_data"
    }
   ],
   "source": [
    "#preprocessing data\n",
    "\n",
    "\n",
    "\n",
    "sns.countplot(data['FTR'])"
   ]
  },
  {
   "cell_type": "code",
   "execution_count": 14,
   "id": "bfb4ddd4",
   "metadata": {},
   "outputs": [],
   "source": [
    "features = ['HomeTeam', 'AwayTeam', 'FTHG', 'FTAG', 'HTHG', 'HTAG', 'HTR']\n",
    "y_target = 'FTR'\n",
    "\n",
    "\n",
    "# Drop rows with nan\n",
    "data = data.dropna()\n",
    "\n",
    "for col in ['HomeTeam', 'AwayTeam', 'Season', 'HTR']:\n",
    "\n",
    "    le = LabelEncoder()\n",
    "    data[col] = le.fit_transform(data[col])\n",
    "\n",
    "x = data[features]\n",
    "y = data['FTR']\n",
    "\n",
    "# x = bundesliga.drop('FTR',axis=1)\n",
    "# y = bundesliga['FTR']\n",
    "\n",
    "x_train, x_test, y_train, y_test = train_test_split(x, y, test_size=0.2, random_state=42)"
   ]
  },
  {
   "cell_type": "code",
   "execution_count": 15,
   "id": "acdb6096",
   "metadata": {},
   "outputs": [
    {
     "name": "stdout",
     "output_type": "stream",
     "text": [
      "              precision    recall  f1-score   support\n",
      "\n",
      "           A       0.99      1.00      1.00       399\n",
      "           D       1.00      0.99      0.99       386\n",
      "           H       1.00      1.00      1.00       623\n",
      "\n",
      "    accuracy                           1.00      1408\n",
      "   macro avg       1.00      1.00      1.00      1408\n",
      "weighted avg       1.00      1.00      1.00      1408\n",
      "\n",
      "[[398   1   0]\n",
      " [  2 383   1]\n",
      " [  0   0 623]]\n"
     ]
    }
   ],
   "source": [
    "#RANDOM FOREST CLASSIFIER\n",
    "rfc=RandomForestClassifier(n_estimators=200)\n",
    "rfc.fit(x_train, y_train) \n",
    "pred_rfc=rfc.predict(x_test)\n",
    "print(classification_report(y_test, pred_rfc))\n",
    "print(confusion_matrix(y_test, pred_rfc))"
   ]
  },
  {
   "cell_type": "code",
   "execution_count": 16,
   "id": "e645ac5d",
   "metadata": {},
   "outputs": [
    {
     "name": "stdout",
     "output_type": "stream",
     "text": [
      "              precision    recall  f1-score   support\n",
      "\n",
      "           A       1.00      0.89      0.94       399\n",
      "           D       0.87      0.94      0.90       386\n",
      "           H       0.96      0.98      0.97       623\n",
      "\n",
      "    accuracy                           0.94      1408\n",
      "   macro avg       0.94      0.94      0.94      1408\n",
      "weighted avg       0.95      0.94      0.94      1408\n",
      "\n",
      "[[356  43   0]\n",
      " [  0 363  23]\n",
      " [  0  13 610]]\n"
     ]
    }
   ],
   "source": [
    "#SVM CLASSIFIER\n",
    "clf=svm.SVC()\n",
    "clf.fit(x_train, y_train )\n",
    "pred_clf= clf.predict(x_test)\n",
    "print(classification_report(y_test, pred_clf))\n",
    "print(confusion_matrix(y_test, pred_clf))\n"
   ]
  },
  {
   "cell_type": "code",
   "execution_count": 19,
   "id": "6ed52a3e",
   "metadata": {},
   "outputs": [
    {
     "name": "stdout",
     "output_type": "stream",
     "text": [
      "              precision    recall  f1-score   support\n",
      "\n",
      "           A       1.00      1.00      1.00       399\n",
      "           D       1.00      1.00      1.00       386\n",
      "           H       1.00      1.00      1.00       623\n",
      "\n",
      "    accuracy                           1.00      1408\n",
      "   macro avg       1.00      1.00      1.00      1408\n",
      "weighted avg       1.00      1.00      1.00      1408\n",
      "\n",
      "[[399   0   0]\n",
      " [  0 386   0]\n",
      " [  0   0 623]]\n"
     ]
    }
   ],
   "source": [
    "#Neural Network\n",
    "mlpc=MLPClassifier(hidden_layer_sizes=(11,11,11),max_iter=500)\n",
    "mlpc.fit(x_train, y_train)\n",
    "pred_mlpc= mlpc.predict(x_test)\n",
    "print(classification_report(y_test, pred_mlpc))\n",
    "print(confusion_matrix(y_test, pred_mlpc))"
   ]
  },
  {
   "cell_type": "code",
   "execution_count": null,
   "id": "9e30ac94",
   "metadata": {},
   "outputs": [],
   "source": []
  },
  {
   "cell_type": "code",
   "execution_count": null,
   "id": "a6de133b",
   "metadata": {},
   "outputs": [],
   "source": []
  }
 ],
 "metadata": {
  "kernelspec": {
   "display_name": "Python 3",
   "language": "python",
   "name": "python3"
  },
  "language_info": {
   "codemirror_mode": {
    "name": "ipython",
    "version": 3
   },
   "file_extension": ".py",
   "mimetype": "text/x-python",
   "name": "python",
   "nbconvert_exporter": "python",
   "pygments_lexer": "ipython3",
   "version": "3.9.1"
  }
 },
 "nbformat": 4,
 "nbformat_minor": 5
}
